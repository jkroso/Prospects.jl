{
 "metadata": {
  "language": "Julia",
  "name": "",
  "signature": "sha256:39e4bf624ec9d41753f503cbee0ce7ca925c17b581e7c0d9087f8c57d3d9ba77"
 },
 "nbformat": 3,
 "nbformat_minor": 0,
 "worksheets": [
  {
   "cells": [
    {
     "cell_type": "markdown",
     "metadata": {},
     "source": [
      "# prospects\n",
      "\n",
      "A staging ground for new Julia features\n",
      "\n",
      "## Installation\n",
      "\n",
      "With [packin](//github.com/jkroso/packin): `packin add jkroso/prospects`"
     ]
    },
    {
     "cell_type": "code",
     "collapsed": false,
     "input": [
      "@require \"prospects\" get_in compose flat flatten mapcat;"
     ],
     "language": "python",
     "metadata": {},
     "outputs": [],
     "prompt_number": 1
    },
    {
     "cell_type": "markdown",
     "metadata": {},
     "source": [
      "## API"
     ]
    },
    {
     "cell_type": "markdown",
     "metadata": {},
     "source": [
      "Lift the values out of nested arrays. Any doubly nested arrays will become singly nested etc..."
     ]
    },
    {
     "cell_type": "code",
     "collapsed": false,
     "input": [
      "flatten({[1],2,{{3}}})"
     ],
     "language": "python",
     "metadata": {},
     "outputs": [
      {
       "metadata": {},
       "output_type": "pyout",
       "prompt_number": 2,
       "text": [
        "3-element Array{Any,1}:\n",
        " 1   \n",
        " 2   \n",
        "  {3}"
       ]
      }
     ],
     "prompt_number": 2
    },
    {
     "cell_type": "markdown",
     "metadata": {},
     "source": [
      "A recursive version of flatten. It will allways return a completely flattened array"
     ]
    },
    {
     "cell_type": "code",
     "collapsed": false,
     "input": [
      "flat({[1], {2,[3]}})"
     ],
     "language": "python",
     "metadata": {},
     "outputs": [
      {
       "metadata": {},
       "output_type": "pyout",
       "prompt_number": 3,
       "text": [
        "3-element Array{Int64,1}:\n",
        " 1\n",
        " 2\n",
        " 3"
       ]
      }
     ],
     "prompt_number": 3
    },
    {
     "cell_type": "markdown",
     "metadata": {},
     "source": [
      "A 2 argument `Base.get` which throws like `Base.getindex` if the key is not defined"
     ]
    },
    {
     "cell_type": "code",
     "collapsed": false,
     "input": [
      "get({1=>2}, 1)"
     ],
     "language": "python",
     "metadata": {},
     "outputs": [
      {
       "metadata": {},
       "output_type": "pyout",
       "prompt_number": 4,
       "text": [
        "2"
       ]
      }
     ],
     "prompt_number": 4
    },
    {
     "cell_type": "markdown",
     "metadata": {},
     "source": [
      "Like `Base.get` except it takes an array of keys rather than just one key"
     ]
    },
    {
     "cell_type": "code",
     "collapsed": false,
     "input": [
      "get_in({1=>{2=>[1,2,3]}}, [1,2,3])"
     ],
     "language": "python",
     "metadata": {},
     "outputs": [
      {
       "metadata": {},
       "output_type": "pyout",
       "prompt_number": 5,
       "text": [
        "3"
       ]
      }
     ],
     "prompt_number": 5
    },
    {
     "cell_type": "code",
     "collapsed": false,
     "input": [
      "mapcat(ones, [1,2])"
     ],
     "language": "python",
     "metadata": {},
     "outputs": [
      {
       "metadata": {},
       "output_type": "pyout",
       "prompt_number": 6,
       "text": [
        "3-element Array{Any,1}:\n",
        " 1.0\n",
        " 1.0\n",
        " 1.0"
       ]
      }
     ],
     "prompt_number": 6
    },
    {
     "cell_type": "code",
     "collapsed": false,
     "input": [
      "compose(iseven, vcat)(1)"
     ],
     "language": "python",
     "metadata": {},
     "outputs": [
      {
       "metadata": {},
       "output_type": "pyout",
       "prompt_number": 7,
       "text": [
        "1-element Array{Bool,1}:\n",
        " false"
       ]
      }
     ],
     "prompt_number": 7
    }
   ],
   "metadata": {}
  }
 ]
}